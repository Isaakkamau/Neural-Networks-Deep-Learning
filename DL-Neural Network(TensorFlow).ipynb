{
 "cells": [
  {
   "cell_type": "markdown",
   "id": "e237fec2",
   "metadata": {},
   "source": [
    "# Neural Networks/Deep Learning\n"
   ]
  },
  {
   "cell_type": "markdown",
   "id": "4592e68a",
   "metadata": {},
   "source": [
    "# <font color=red>_\"A computer program is said to learn from experience E with respect to some class of tasks T and performance measure P, if its performance at tasks in T, as measured by P, improves with experience E.\"Tom Mitchell (1999)_</font>"
   ]
  },
  {
   "cell_type": "markdown",
   "id": "d08fa375",
   "metadata": {},
   "source": [
    "- E: Experience (the number of times).\n",
    "- T: The Task (driving a car).\n",
    "- P: The Performance (good or bad)."
   ]
  },
  {
   "cell_type": "markdown",
   "id": "2c7de89c",
   "metadata": {},
   "source": [
    "## Deep learning is divided in 5 major parts\n",
    "1. Perceptrons\n",
    "2. Recognition\n",
    "3. Training\n",
    "4. Testing\n",
    "5. Learning"
   ]
  },
  {
   "cell_type": "markdown",
   "id": "99baa3cf",
   "metadata": {},
   "source": [
    "<img src=\"https://www.smartsheet.com/sites/default/files/IC-simplified-artificial-neural-networks-corrected.svg\" alt=\"Neural Networks image\" title=\"Neural Networks image\" />"
   ]
  },
  {
   "cell_type": "markdown",
   "id": "ba79dc44",
   "metadata": {},
   "source": [
    "# Deep learning / Neural Networks"
   ]
  },
  {
   "cell_type": "markdown",
   "id": "7fe20c3a",
   "metadata": {},
   "source": [
    ">Neurons (aka Nerve Cells) are the fundamental units of human brain and nervous system.\n",
    "They receive input from the external world, for sending output (commands to our muscles), and for transforming the electrical signals in between.\n",
    "##### Artificial Neural Networks \n",
    ">Neural networks are in fact multi-layer Perceptrons(The perceptron defines the first step into multi-layered neural networks.)"
   ]
  },
  {
   "cell_type": "markdown",
   "id": "8ab6abf4",
   "metadata": {},
   "source": [
    "## Example of Neural Networks\n",
    "- ### TensorFlow Playground\n",
    ">With the below TensorFlow Playground you can learn about Neural Networks (NN)"
   ]
  },
  {
   "cell_type": "code",
   "execution_count": 1,
   "id": "0e347fd3",
   "metadata": {
    "scrolled": false
   },
   "outputs": [
    {
     "data": {
      "text/html": [
       "<iframe src=\"https://playground.tensorflow.org\" width=\"1200\" height=\"1000\"></iframe>\n"
      ],
      "text/plain": [
       "<IPython.core.display.HTML object>"
      ]
     },
     "metadata": {},
     "output_type": "display_data"
    }
   ],
   "source": [
    "%%html\n",
    "<iframe src=\"https://playground.tensorflow.org\" width=\"1200\" height=\"1000\"></iframe>"
   ]
  },
  {
   "cell_type": "markdown",
   "id": "3dcb2a70",
   "metadata": {},
   "source": [
    " "
   ]
  },
  {
   "cell_type": "markdown",
   "id": "3b17fb4e",
   "metadata": {},
   "source": [
    " "
   ]
  },
  {
   "cell_type": "markdown",
   "id": "133f0363",
   "metadata": {},
   "source": [
    " "
   ]
  },
  {
   "cell_type": "markdown",
   "id": "69851c77",
   "metadata": {},
   "source": [
    " "
   ]
  },
  {
   "cell_type": "markdown",
   "id": "fac22a26",
   "metadata": {},
   "source": [
    " "
   ]
  },
  {
   "cell_type": "markdown",
   "id": "b5d399f1",
   "metadata": {},
   "source": [
    "# CHAPTER 1. <font color=red>Perceptron</font>\n",
    ">A perceptron is a neural network unit (an artificial neuron) that does certain computations to detect features or business intelligence in the input data."
   ]
  },
  {
   "cell_type": "markdown",
   "id": "2e73908c",
   "metadata": {},
   "source": [
    " "
   ]
  },
  {
   "cell_type": "markdown",
   "id": "007b9980",
   "metadata": {},
   "source": [
    " "
   ]
  },
  {
   "cell_type": "markdown",
   "id": "880661a4",
   "metadata": {},
   "source": [
    " "
   ]
  },
  {
   "cell_type": "markdown",
   "id": "a3baf146",
   "metadata": {},
   "source": [
    "<img src=\"https://indiantechwarrior.com/wp-content/uploads/2021/04/perceptron-1.png\" alt=\"Perceptron image\" title=\"Perceptrons input and output\" />"
   ]
  },
  {
   "cell_type": "markdown",
   "id": "2589d352",
   "metadata": {},
   "source": [
    ">The idea was to use different weights to represent the importance of each input, and that the sum of the values should be greater than a threshold value before making a decision like true or false (0 or 1)."
   ]
  },
  {
   "cell_type": "markdown",
   "id": "0c3659b9",
   "metadata": {},
   "source": [
    "### Perceptron Example\n",
    "\n",
    "Imagine a perceptron (in your brain).\n",
    "\n",
    "The perceptron tries to decide if you should go to a concert.\n",
    "\n",
    "- Is the artist good? Is the weather good?\n",
    "\n",
    "- What weights should these facts have?"
   ]
  },
  {
   "cell_type": "markdown",
   "id": "ad3a5f11",
   "metadata": {},
   "source": [
    "|Criteria         |Input        |Weight    |\n",
    "|-----------------|-------------|----------|\n",
    "|Artists is Good  |x1 = 0 or 1  |w1 = 0.7  |\n",
    "|Weather is Good  |\tx2 = 0 or 1 |w2 = 0.6  |\n",
    "|Friend will Come |x3 = 0 or 1  |w3 = 0.5  |\n",
    "|Food is Served   |x4 = 0 or 1l |w4 = 0.3  |"
   ]
  },
  {
   "cell_type": "markdown",
   "id": "c787696b",
   "metadata": {},
   "source": [
    "### The Perceptron Algorithm\n",
    "\n",
    "Frank Rosenblatt suggested this algorithm:\n",
    "\n",
    "    Set a threshold value\n",
    "    Multiply all inputs with its weights\n",
    "    Sum all the results\n",
    "    Activate the output\n"
   ]
  },
  {
   "cell_type": "markdown",
   "id": "4c095533",
   "metadata": {},
   "source": [
    "### 1. Set a threshold value:\n",
    "\n",
    "    Threshold = 1.5\n",
    "\n",
    "### 2. Multiply all inputs with its weights:\n",
    "\n",
    "    x1 * w1 = 1 * 0.7 = 0.7\n",
    "    x2 * w2 = 0 * 0.6 = 0\n",
    "    x3 * w3 = 1 * 0.5 = 0.5\n",
    "    x4 * w4 = 0 * 0.3 = 0\n",
    "    x5 * w5 = 1 * 0.4 = 0.4\n",
    "\n",
    "### 3. Sum all the results:\n",
    "\n",
    "    0.7 + 0 + 0.5 + 0 + 0.4 = 1.6 (The Weighted Sum)\n",
    "\n",
    "### 4. Activate the Output:\n",
    "\n",
    "    Return true if the sum > 1.5 (\"Yes I will go to the Concert\")\n"
   ]
  },
  {
   "cell_type": "markdown",
   "id": "198062c8",
   "metadata": {},
   "source": [
    "\n",
    "### <font color=red>Note</font>\n",
    "\n",
    ">If the weather weight is 0.6 for you, it might different for someone else. A higher weight means that the weater is more important to them.\n",
    "\n",
    ">If the treshold value is 1.5 for you, it might be different for someone else. A lower treshold means they are more wanting to go to the consert.\n"
   ]
  },
  {
   "cell_type": "markdown",
   "id": "cd0799b6",
   "metadata": {},
   "source": [
    "### Perceptron Terminology\n",
    "\n",
    "    Perceptron Inputs\n",
    "    Node values\n",
    "    Node Weights\n",
    "    Activation Function\n",
    "\n"
   ]
  },
  {
   "cell_type": "markdown",
   "id": "528f1a36",
   "metadata": {},
   "source": [
    "### Perceptron Inputs\n",
    "\n",
    "   >Perceptron inputs are called nodes.\n",
    "   The nodes have both a <font color=red>value</font> and <font color=red>a weight.</font>"
   ]
  },
  {
   "cell_type": "markdown",
   "id": "3672d716",
   "metadata": {},
   "source": [
    "### Node Values\n",
    "\n",
    ">In the example above, the node values are: 1, 0, 1, 0, 1\n",
    "\n",
    ">The binary input values (0 or 1) can be interpreted as (no or yes) or (false or true).\n",
    "### Node Weights\n",
    "\n",
    ">Weights shows the strength of each node.\n",
    "\n",
    ">In the example above, the node weights are: 0.7, 0.6, 0.5, 0.3, 0.4\n",
    "### The Activation Function\n",
    "\n",
    ">The activation functions maps the result (the weighted sum) into a required value like 0 or 1.\n",
    "\n",
    ">In the example above, the activation function is simple: (sum > 1.5)\n",
    "\n",
    ">The binary output (1 or 0) can be interpreted as (yes or no) or (true or false)."
   ]
  },
  {
   "cell_type": "markdown",
   "id": "d271ff7e",
   "metadata": {},
   "source": [
    "\n",
    "### <font color=red>Note</font>\n",
    "\n",
    "    It is obvious that a decision is NOT made by one neuron alone.\n",
    "\n",
    "    Other neurons must provide input: Is the artist good. Is the weather good...\n",
    "\n",
    "      In Neuroscience, there is a debate if single-neuron encoding or distributed encoding is most relevant for understanding brain functions.\n"
   ]
  },
  {
   "cell_type": "markdown",
   "id": "29b1976d",
   "metadata": {},
   "source": [
    "# Neural Networks\n",
    "### The Perceptron defines the first step into Neural Networks.\n",
    "\n",
    "### Multi-Layer Perceptrons can be used for very sophisticated decision making."
   ]
  },
  {
   "cell_type": "markdown",
   "id": "ddaa0920",
   "metadata": {},
   "source": [
    "<img src=\"https://www.w3schools.com/ai/img_neural_networks.jpg\" alt=\"Neural Networks image\" title=\"Multi-Layer Perceptrons\" />"
   ]
  },
  {
   "cell_type": "markdown",
   "id": "d7cba146",
   "metadata": {},
   "source": [
    "In the __Neural Network Model__, input data (yellow) are processed against a hidden layer (blue) and modified against more hidden layers (green) to produce the final output (red).\n",
    "\n",
    "#### The First Layer:\n",
    "The 3 yellow perceptrons are making 3 simple decisions based on the input evidence. Each single desision is sent to the 4 perceptrons in the next layer.\n",
    "\n",
    "#### The Second Layer:\n",
    "The blue perceptrons are making decisions by weighing the results from the first layer. This layer make more complex decisions at a more abstract level than the first layer.\n",
    "\n",
    "#### The Third Layer:\n",
    "Even more complex decisions are made by the green perceptons."
   ]
  },
  {
   "cell_type": "markdown",
   "id": "14d0832d",
   "metadata": {},
   "source": [
    " "
   ]
  },
  {
   "cell_type": "markdown",
   "id": "b033fe5e",
   "metadata": {},
   "source": [
    " "
   ]
  },
  {
   "cell_type": "markdown",
   "id": "dd9eae1f",
   "metadata": {},
   "source": [
    " "
   ]
  },
  {
   "cell_type": "markdown",
   "id": "49e35333",
   "metadata": {},
   "source": [
    " "
   ]
  },
  {
   "cell_type": "markdown",
   "id": "6482e230",
   "metadata": {},
   "source": [
    "# CHAPTER 2. <font color=red>Pattern Recognition</font>"
   ]
  },
  {
   "cell_type": "markdown",
   "id": "29208f5e",
   "metadata": {},
   "source": [
    " "
   ]
  },
  {
   "cell_type": "markdown",
   "id": "e0987940",
   "metadata": {},
   "source": [
    " "
   ]
  },
  {
   "cell_type": "markdown",
   "id": "da0a05db",
   "metadata": {},
   "source": [
    " "
   ]
  },
  {
   "cell_type": "markdown",
   "id": "7a85a400",
   "metadata": {},
   "source": [
    "Imagine a strait line (a linear graph) in a space with scattered x y points.\n",
    "How can you classify the points over and under the line?\n"
   ]
  },
  {
   "attachments": {
    "index.png": {
     "image/png": "[encoded data removed]"
    }
   },
   "cell_type": "markdown",
   "id": "3b367707",
   "metadata": {},
   "source": [
    "![index.png](attachment:index.png)"
   ]
  },
  {
   "cell_type": "markdown",
   "id": "0dd7d2e4",
   "metadata": {},
   "source": [
    "A perceptron can be trained to recognize the points over the line, without knowing the formula for the line.\n",
    "\n",
    "Perceptron"
   ]
  },
  {
   "attachments": {
    "Screenshot%202022-05-16%20at%2017-00-34%20Pattern%20Recognition.png": {
     "image/png": "[encoded data removed]"
    }
   },
   "cell_type": "markdown",
   "id": "f91d8343",
   "metadata": {},
   "source": [
    "![Screenshot%202022-05-16%20at%2017-00-34%20Pattern%20Recognition.png](attachment:Screenshot%202022-05-16%20at%2017-00-34%20Pattern%20Recognition.png)"
   ]
  },
  {
   "cell_type": "markdown",
   "id": "37dcf538",
   "metadata": {},
   "source": [
    "### How to Program a Perceptron"
   ]
  },
  {
   "cell_type": "markdown",
   "id": "981f468a",
   "metadata": {},
   "source": [
    "To learn more about how to program a perceptron, we will create a very simple JavaScript program that will:\n",
    "\n",
    "    Create a simple plotter\n",
    "    Create 500 random x y points\n",
    "    Diplay the x y points\n",
    "    Create a line function: f(x)\n",
    "    Display the line\n",
    "    Compute the desired answers\n",
    "    Display the desired answers\n"
   ]
  },
  {
   "cell_type": "code",
   "execution_count": 4,
   "id": "b1c20ab5",
   "metadata": {},
   "outputs": [
    {
     "ename": "SyntaxError",
     "evalue": "invalid syntax (Temp/ipykernel_9704/2427128494.py, line 1)",
     "output_type": "error",
     "traceback": [
      "\u001b[1;36m  File \u001b[1;32m\"C:\\Users\\Isaac\\AppData\\Local\\Temp/ipykernel_9704/2427128494.py\"\u001b[1;36m, line \u001b[1;32m1\u001b[0m\n\u001b[1;33m    <!DOCTYPE html>\u001b[0m\n\u001b[1;37m    ^\u001b[0m\n\u001b[1;31mSyntaxError\u001b[0m\u001b[1;31m:\u001b[0m invalid syntax\n"
     ]
    }
   ],
   "source": [
    "<!DOCTYPE html>\n",
    "<html>\n",
    "<script src=\"myplotlib.js\"></script>\n",
    "\n",
    "<body>\n",
    "<canvas id=\"myCanvas\" width=\"400px\" height=\"400px\" style=\"width:100%;max-width:400px;border:1px solid black\"></canvas>\n",
    "\n",
    "<script>\n",
    "// Create a Plotter\n",
    "const plotter = new XYPlotter(\"myCanvas\");\n",
    "plotter.transformXY();\n",
    "const xMax = plotter.xMax;\n",
    "const yMax = plotter.yMax;\n",
    "const xMin = plotter.xMin;\n",
    "const yMin = plotter.yMin;\n",
    "\n",
    "// Create Random XY Points\n",
    "const numPoints = 500;\n",
    "const xPoints = [];\n",
    "const yPoints = [];\n",
    "for (let i = 0; i < numPoints; i++) {\n",
    "  xPoints[i] = Math.random() * xMax;\n",
    "  yPoints[i] = Math.random() * yMax;\n",
    "}\n",
    "\n",
    "// Line Function\n",
    "function f(x) {\n",
    "  return x * 1.2 + 50;\n",
    "}\n",
    "\n",
    "//Plot the Line\n",
    "plotter.plotLine(xMin, f(xMin), xMax, f(xMax), \"black\");\n",
    "\n",
    "// Compute Desired Answers\n",
    "const desired = [];\n",
    "for (let i = 0; i < numPoints; i++) {\n",
    "  desired[i] = 0;\n",
    "  if (yPoints[i] > f(xPoints[i])) {desired[i] = 1}\n",
    "}\n",
    "\n",
    "// Diplay Desired Result\n",
    "for (let i = 0; i < numPoints; i++) {\n",
    "  let color = \"blue\";\n",
    "  if (desired[i]) color = \"black\";\n",
    "  plotter.plotPoint(xPoints[i], yPoints[i], color);\n",
    "}\n",
    "</script>\n",
    "</body>\n",
    "</html>\n"
   ]
  },
  {
   "attachments": {
    "Screenshot%202022-05-16%20at%2017-05-18%20W3Schools%20online%20HTML%20editor.png": {
     "image/png": "[encoded data removed]"
    }
   },
   "cell_type": "markdown",
   "id": "84256343",
   "metadata": {},
   "source": [
    "![Screenshot%202022-05-16%20at%2017-05-18%20W3Schools%20online%20HTML%20editor.png](attachment:Screenshot%202022-05-16%20at%2017-05-18%20W3Schools%20online%20HTML%20editor.png)"
   ]
  },
  {
   "cell_type": "markdown",
   "id": "309535ae",
   "metadata": {},
   "source": [
    "perceptron accept two parameters:\n",
    "\n",
    "    The number of inputs (no)\n",
    "    The learning rate (learningRate).\n",
    "\n",
    "Set the default learning rate to 0.00001.\n",
    "\n",
    "Then create random weights between -1 and 1 for each input."
   ]
  },
  {
   "cell_type": "markdown",
   "id": "d39e1337",
   "metadata": {},
   "source": [
    "### Jargons used in creating a perceptron"
   ]
  },
  {
   "cell_type": "markdown",
   "id": "b91052c9",
   "metadata": {},
   "source": [
    "#### The Random Weights\n",
    "\n",
    "The Perceptron will start with a random weight for each input.\n",
    "\n",
    "#### The Learning Rate\n",
    "\n",
    "For each mistake, while training the Perceptron, the weights will be ajusted with a small fraction.\n",
    "\n",
    "This small fraction is the \"Perceptron's learning rate\".\n",
    "\n",
    "In the Perceptron object we call it learnc.\n",
    "#### The Bias\n",
    "\n",
    "Sometimes, if both inputs are zero, the perceptron might produce an in correct output.\n",
    "\n",
    "To avoid this, we give the perceptron an extra input with the value of 1.\n",
    "\n",
    "This is called a bias.\n",
    "\n",
    "### Add an Activate Function\n",
    "\n",
    "##### Remember the perceptron algorithm:\n",
    "\n",
    "    Multiply each input with the perceptron's weights\n",
    "    Sum the results\n",
    "    Compute the outcome\n",
    "\n",
    "\n"
   ]
  },
  {
   "cell_type": "markdown",
   "id": "5f99c863",
   "metadata": {},
   "source": [
    "## Learning is Looping\n",
    "\n",
    "An ML model is Trained by Looping over data multiple times.\n",
    "\n",
    "For each iteration, the Weight Values are adjusted.\n",
    "\n",
    "Training is complete when the iterations fails to Reduce the Cost.\n"
   ]
  },
  {
   "cell_type": "markdown",
   "id": "03ab0ff2",
   "metadata": {},
   "source": [
    "### A Trainer Object\n",
    "\n",
    "Create a Trainer object that can take any number of (x,y) values in two arrays (xArr,yArr).\n",
    "\n",
    "Set both weight and bias to zero.\n",
    "\n",
    "A learning constant (learnc) has to be set, and a cost variable must be defined:\n",
    "\n",
    "### Cost Function\n",
    "\n",
    "A standard way to solve a regression problem, is with an \"Cost Function\" that measures how good the solution is.\n",
    "\n",
    "The function uses the weight and bias from the model (y = wx + b) and returns an error, based on how well the line fits a plot.\n",
    "\n",
    "The way to compute this error, is to loop through all (x,y) points in the plot, and sum the square distances between the y value of each point and the line.\n",
    "\n",
    "The most conventional way is to square the distances (to ensure positive values) and to make the error function differentiable."
   ]
  },
  {
   "attachments": {
    "Screenshot%202022-05-16%20at%2017-22-14%20Machine%20Learning.png": {
     "image/png": "[encoded data removed]"
    }
   },
   "cell_type": "markdown",
   "id": "d595112a",
   "metadata": {},
   "source": [
    "\n",
    "\n",
    "#### Another name for the Cost Function is Error Function.\n",
    "\n",
    "The formula used in the function is actually this:\n",
    "Formula\n",
    "![Screenshot%202022-05-16%20at%2017-22-14%20Machine%20Learning.png](attachment:Screenshot%202022-05-16%20at%2017-22-14%20Machine%20Learning.png)\n",
    "\n",
    "    E is the error (cost)\n",
    "    N is the total number of observations (points)\n",
    "    y is the value (label) of each observation\n",
    "    x is the value (feature) of each observation\n",
    "    m is the slope (weight)\n",
    "    b is intercept (bias)\n",
    "    mx + b is the prediction\n",
    "    1/N * N∑1 is the squared mean value\n",
    "\n"
   ]
  },
  {
   "cell_type": "markdown",
   "id": "2e431a76",
   "metadata": {},
   "source": [
    "### The Train Function\n",
    "\n",
    "We will now run a gradient descent.\n",
    "\n",
    "The gradient descent algorithm should walk the cost function towards the best line.\n",
    "\n",
    "Each iteration should update both m and b towards a line with a lower cost (error).\n",
    "\n",
    "To do that, we add a train function that loops over all the data many times:"
   ]
  },
  {
   "cell_type": "markdown",
   "id": "92800382",
   "metadata": {},
   "source": [
    "#### An Update Weights Function\n",
    "\n",
    "The train function above should update the weights and biases in each iteration.\n",
    "\n",
    "The direction to move is calculated using two partial derivatives:"
   ]
  },
  {
   "attachments": {
    "Screenshot%202022-05-16%20at%2017-25-46%20Machine%20Learning%20Terminology.png": {
     "image/png": "[encoded data removed]"
    }
   },
   "cell_type": "markdown",
   "id": "a2947468",
   "metadata": {},
   "source": [
    "# Terminologies\n",
    "## Relationships\n",
    "\n",
    "Machine learning systems uses Relationships between Inputs to produce Predictions.\n",
    "\n",
    "In algebra, a relationship is often written as y = ax + b:\n",
    "\n",
    "    y is the label we want to predict\n",
    "    a is the slope of the line\n",
    "    x are the input values\n",
    "    b is the intercept\n",
    "\n",
    "With ML, a relationship is written as y = b + wx:\n",
    "\n",
    "    y is the label we want to predict\n",
    "    w is the weight (the slope)\n",
    "    x are the features (input values)\n",
    "    b is the intercept\n",
    "\n",
    "Machine Learning Labels\n",
    "\n",
    "In Machine Learning terminology, the label is the thing we want to predict.\n",
    "\n",
    "It is like the y in a linear graph:\n",
    "![Screenshot%202022-05-16%20at%2017-25-46%20Machine%20Learning%20Terminology.png](attachment:Screenshot%202022-05-16%20at%2017-25-46%20Machine%20Learning%20Terminology.png)\n",
    "\n",
    "## Machine Learning Features\n",
    "\n",
    "In Machine Learning terminology, the features are the input.\n",
    "\n",
    "They are like the x values in a linear graph:\n",
    "\n"
   ]
  },
  {
   "attachments": {
    "Screenshot%202022-05-16%20at%2017-26-39%20Machine%20Learning%20Terminology.png": {
     "image/png": "[encoded data removed]"
    }
   },
   "cell_type": "markdown",
   "id": "d14eb60e",
   "metadata": {},
   "source": [
    "![Screenshot%202022-05-16%20at%2017-26-39%20Machine%20Learning%20Terminology.png](attachment:Screenshot%202022-05-16%20at%2017-26-39%20Machine%20Learning%20Terminology.png)\n",
    "Sometimes there can be many features (input values) with different weights:\n",
    "\n",
    "y = b + w1x1 + w2x2 + w3x3 + w4x4\n",
    "\n",
    "## Machine Learning Models\n",
    "\n",
    "A Model defines the relationship between the label (y) and the features (x).\n",
    "\n",
    "There are three phases in the life of a model:\n",
    "\n",
    "    Data Collection\n",
    "    Training\n",
    "    Inference \n",
    "\n",
    "## Machine Learning Training\n",
    "\n",
    "The goal of training is to create a model that can answer a question. Like what is the expected price for a house?\n",
    "Machine Learning Inference\n",
    "\n",
    "Inference is when the trained model is used to infer (predict) values using live data. Like putting the model into production."
   ]
  },
  {
   "cell_type": "markdown",
   "id": "2cb4d276",
   "metadata": {},
   "source": [
    "\n",
    " "
   ]
  },
  {
   "cell_type": "markdown",
   "id": "85881dc5",
   "metadata": {},
   "source": [
    " "
   ]
  },
  {
   "cell_type": "markdown",
   "id": "f3ef1dc2",
   "metadata": {},
   "source": [
    " "
   ]
  },
  {
   "cell_type": "markdown",
   "id": "c0ba0264",
   "metadata": {},
   "source": [
    "# TENSORFLOW"
   ]
  },
  {
   "cell_type": "code",
   "execution_count": null,
   "id": "7264c8c8",
   "metadata": {},
   "outputs": [],
   "source": [
    "#@title Licensed under the Apache License, Version 2.0 (the \"License\");\n",
    "# you may not use this file except in compliance with the License.\n",
    "# You may obtain a copy of the License at\n",
    "#\n",
    "# https://www.apache.org/licenses/LICENSE-2.0\n",
    "#\n",
    "# Unless required by applicable law or agreed to in writing, software\n",
    "# distributed under the License is distributed on an \"AS IS\" BASIS,\n",
    "# WITHOUT WARRANTIES OR CONDITIONS OF ANY KIND, either express or implied.\n",
    "# See the License for the specific language governing permissions and\n",
    "# limitations under the License."
   ]
  },
  {
   "cell_type": "markdown",
   "id": "0a49b142",
   "metadata": {},
   "source": [
    " "
   ]
  },
  {
   "cell_type": "markdown",
   "id": "7a51aefe",
   "metadata": {},
   "source": [
    " "
   ]
  },
  {
   "cell_type": "markdown",
   "id": "485498e5",
   "metadata": {},
   "source": [
    " "
   ]
  },
  {
   "cell_type": "markdown",
   "id": "a317b3ee",
   "metadata": {},
   "source": [
    " ### Install TensorFlow 2 \n",
    " ##### Requires the latest pip\n",
    "pip install --upgrade pip\n",
    "\n",
    "##### Current stable release for CPU and GPU\n",
    "pip install tensorflow\n",
    "\n",
    "##### Or try the preview build (unstable)\n",
    "pip install tf-nightly\n"
   ]
  },
  {
   "cell_type": "code",
   "execution_count": 5,
   "id": "f5a17de6",
   "metadata": {
    "collapsed": true
   },
   "outputs": [
    {
     "name": "stdout",
     "output_type": "stream",
     "text": [
      "Note: you may need to restart the kernel to use updated packages.Collecting tensorflow\n",
      "\n",
      "  Downloading tensorflow-2.8.0-cp39-cp39-win_amd64.whl (438.0 MB)\n",
      "Collecting termcolor>=1.1.0\n",
      "  Downloading termcolor-1.1.0.tar.gz (3.9 kB)\n",
      "Requirement already satisfied: wrapt>=1.11.0 in c:\\users\\isaac\\anaconda3\\lib\\site-packages (from tensorflow) (1.12.1)\n",
      "Collecting protobuf>=3.9.2\n",
      "  Downloading protobuf-3.20.1-cp39-cp39-win_amd64.whl (904 kB)\n",
      "Collecting grpcio<2.0,>=1.24.3\n",
      "  Downloading grpcio-1.46.1-cp39-cp39-win_amd64.whl (3.5 MB)\n",
      "Collecting tf-estimator-nightly==2.8.0.dev2021122109\n",
      "  Downloading tf_estimator_nightly-2.8.0.dev2021122109-py2.py3-none-any.whl (462 kB)\n",
      "Requirement already satisfied: typing-extensions>=3.6.6 in c:\\users\\isaac\\anaconda3\\lib\\site-packages (from tensorflow) (3.10.0.2)\n",
      "Collecting google-pasta>=0.1.1\n",
      "  Downloading google_pasta-0.2.0-py3-none-any.whl (57 kB)\n",
      "Collecting opt-einsum>=2.3.2\n",
      "  Downloading opt_einsum-3.3.0-py3-none-any.whl (65 kB)\n",
      "Collecting gast>=0.2.1\n",
      "  Downloading gast-0.5.3-py3-none-any.whl (19 kB)\n",
      "Collecting absl-py>=0.4.0\n",
      "  Downloading absl_py-1.0.0-py3-none-any.whl (126 kB)\n",
      "Requirement already satisfied: setuptools in c:\\users\\isaac\\anaconda3\\lib\\site-packages (from tensorflow) (58.0.4)\n",
      "Collecting keras-preprocessing>=1.1.1\n",
      "  Downloading Keras_Preprocessing-1.1.2-py2.py3-none-any.whl (42 kB)\n",
      "Collecting libclang>=9.0.1\n",
      "  Downloading libclang-14.0.1-py2.py3-none-win_amd64.whl (14.2 MB)\n",
      "Collecting astunparse>=1.6.0\n",
      "  Downloading astunparse-1.6.3-py2.py3-none-any.whl (12 kB)\n",
      "Requirement already satisfied: numpy>=1.20 in c:\\users\\isaac\\anaconda3\\lib\\site-packages (from tensorflow) (1.20.3)\n",
      "Collecting flatbuffers>=1.12\n",
      "  Downloading flatbuffers-2.0-py2.py3-none-any.whl (26 kB)\n",
      "Requirement already satisfied: h5py>=2.9.0 in c:\\users\\isaac\\anaconda3\\lib\\site-packages (from tensorflow) (3.2.1)\n",
      "Requirement already satisfied: six>=1.12.0 in c:\\users\\isaac\\anaconda3\\lib\\site-packages (from tensorflow) (1.16.0)\n",
      "Collecting keras<2.9,>=2.8.0rc0\n",
      "  Downloading keras-2.8.0-py2.py3-none-any.whl (1.4 MB)\n",
      "Collecting tensorboard<2.9,>=2.8\n",
      "  Downloading tensorboard-2.8.0-py3-none-any.whl (5.8 MB)\n",
      "Collecting tensorflow-io-gcs-filesystem>=0.23.1\n",
      "  Downloading tensorflow_io_gcs_filesystem-0.25.0-cp39-cp39-win_amd64.whl (1.5 MB)\n",
      "Requirement already satisfied: wheel<1.0,>=0.23.0 in c:\\users\\isaac\\anaconda3\\lib\\site-packages (from astunparse>=1.6.0->tensorflow) (0.37.0)\n",
      "Collecting tensorboard-plugin-wit>=1.6.0\n",
      "  Downloading tensorboard_plugin_wit-1.8.1-py3-none-any.whl (781 kB)\n",
      "Collecting google-auth<3,>=1.6.3\n",
      "  Downloading google_auth-2.6.6-py2.py3-none-any.whl (156 kB)\n",
      "Collecting google-auth-oauthlib<0.5,>=0.4.1\n",
      "  Downloading google_auth_oauthlib-0.4.6-py2.py3-none-any.whl (18 kB)\n",
      "Collecting markdown>=2.6.8\n",
      "  Downloading Markdown-3.3.7-py3-none-any.whl (97 kB)\n",
      "Requirement already satisfied: requests<3,>=2.21.0 in c:\\users\\isaac\\anaconda3\\lib\\site-packages (from tensorboard<2.9,>=2.8->tensorflow) (2.26.0)\n",
      "Requirement already satisfied: werkzeug>=0.11.15 in c:\\users\\isaac\\anaconda3\\lib\\site-packages (from tensorboard<2.9,>=2.8->tensorflow) (2.0.2)\n",
      "Collecting tensorboard-data-server<0.7.0,>=0.6.0\n",
      "  Downloading tensorboard_data_server-0.6.1-py3-none-any.whl (2.4 kB)\n",
      "Collecting rsa<5,>=3.1.4\n",
      "  Downloading rsa-4.8-py3-none-any.whl (39 kB)\n",
      "Collecting cachetools<6.0,>=2.0.0\n",
      "  Downloading cachetools-5.1.0-py3-none-any.whl (9.2 kB)\n",
      "Collecting pyasn1-modules>=0.2.1\n",
      "  Downloading pyasn1_modules-0.2.8-py2.py3-none-any.whl (155 kB)\n",
      "Collecting requests-oauthlib>=0.7.0\n",
      "  Downloading requests_oauthlib-1.3.1-py2.py3-none-any.whl (23 kB)\n",
      "Requirement already satisfied: importlib-metadata>=4.4 in c:\\users\\isaac\\anaconda3\\lib\\site-packages (from markdown>=2.6.8->tensorboard<2.9,>=2.8->tensorflow) (4.8.1)\n",
      "Requirement already satisfied: zipp>=0.5 in c:\\users\\isaac\\anaconda3\\lib\\site-packages (from importlib-metadata>=4.4->markdown>=2.6.8->tensorboard<2.9,>=2.8->tensorflow) (3.6.0)\n",
      "Collecting pyasn1<0.5.0,>=0.4.6\n",
      "  Downloading pyasn1-0.4.8-py2.py3-none-any.whl (77 kB)\n",
      "Requirement already satisfied: certifi>=2017.4.17 in c:\\users\\isaac\\anaconda3\\lib\\site-packages (from requests<3,>=2.21.0->tensorboard<2.9,>=2.8->tensorflow) (2021.10.8)\n",
      "Requirement already satisfied: urllib3<1.27,>=1.21.1 in c:\\users\\isaac\\anaconda3\\lib\\site-packages (from requests<3,>=2.21.0->tensorboard<2.9,>=2.8->tensorflow) (1.26.7)\n",
      "Requirement already satisfied: charset-normalizer~=2.0.0 in c:\\users\\isaac\\anaconda3\\lib\\site-packages (from requests<3,>=2.21.0->tensorboard<2.9,>=2.8->tensorflow) (2.0.4)\n",
      "Requirement already satisfied: idna<4,>=2.5 in c:\\users\\isaac\\anaconda3\\lib\\site-packages (from requests<3,>=2.21.0->tensorboard<2.9,>=2.8->tensorflow) (3.2)\n",
      "Collecting oauthlib>=3.0.0\n",
      "  Downloading oauthlib-3.2.0-py3-none-any.whl (151 kB)\n",
      "Building wheels for collected packages: termcolor\n",
      "  Building wheel for termcolor (setup.py): started\n",
      "  Building wheel for termcolor (setup.py): finished with status 'done'\n",
      "  Created wheel for termcolor: filename=termcolor-1.1.0-py3-none-any.whl size=4847 sha256=4722b958a0aeefd4b8117a7e14c7541579215005c7fb45306e38884236eccb20\n",
      "  Stored in directory: c:\\users\\isaac\\appdata\\local\\pip\\cache\\wheels\\b6\\0d\\90\\0d1bbd99855f99cb2f6c2e5ff96f8023fad8ec367695f7d72d\n",
      "Successfully built termcolor\n",
      "Installing collected packages: pyasn1, rsa, pyasn1-modules, oauthlib, cachetools, requests-oauthlib, google-auth, tensorboard-plugin-wit, tensorboard-data-server, protobuf, markdown, grpcio, google-auth-oauthlib, absl-py, tf-estimator-nightly, termcolor, tensorflow-io-gcs-filesystem, tensorboard, opt-einsum, libclang, keras-preprocessing, keras, google-pasta, gast, flatbuffers, astunparse, tensorflow\n",
      "Successfully installed absl-py-1.0.0 astunparse-1.6.3 cachetools-5.1.0 flatbuffers-2.0 gast-0.5.3 google-auth-2.6.6 google-auth-oauthlib-0.4.6 google-pasta-0.2.0 grpcio-1.46.1 keras-2.8.0 keras-preprocessing-1.1.2 libclang-14.0.1 markdown-3.3.7 oauthlib-3.2.0 opt-einsum-3.3.0 protobuf-3.20.1 pyasn1-0.4.8 pyasn1-modules-0.2.8 requests-oauthlib-1.3.1 rsa-4.8 tensorboard-2.8.0 tensorboard-data-server-0.6.1 tensorboard-plugin-wit-1.8.1 tensorflow-2.8.0 tensorflow-io-gcs-filesystem-0.25.0 termcolor-1.1.0 tf-estimator-nightly-2.8.0.dev2021122109\n"
     ]
    }
   ],
   "source": [
    "pip install tensorflow"
   ]
  },
  {
   "cell_type": "markdown",
   "id": "17836d94",
   "metadata": {},
   "source": [
    "# TensorFlow basics"
   ]
  },
  {
   "cell_type": "markdown",
   "id": "67c96ba4",
   "metadata": {},
   "source": [
    "<table class=\"tfo-notebook-buttons\" align=\"left\">\n",
    "  <td>\n",
    "    <a target=\"_blank\" href=\"https://www.tensorflow.org/guide/basics\"><img src=\"https://www.tensorflow.org/images/tf_logo_32px.png\" />View on TensorFlow.org</a>\n",
    "  </td>\n",
    "  <td>\n",
    "    <a target=\"_blank\" href=\"https://colab.research.google.com/github/tensorflow/docs/blob/master/site/en/guide/basics.ipynb\"><img src=\"https://www.tensorflow.org/images/colab_logo_32px.png\" />Run in Google Colab</a>\n",
    "  </td>\n",
    "  <td>\n",
    "    <a target=\"_blank\" href=\"https://github.com/tensorflow/docs/blob/master/site/en/guide/basics.ipynb\"><img src=\"https://www.tensorflow.org/images/GitHub-Mark-32px.png\" />View source on GitHub</a>\n",
    "  </td>\n",
    "  <td>\n",
    "    <a href=\"https://storage.googleapis.com/tensorflow_docs/docs/site/en/guide/basics.ipynb\"><img src=\"https://www.tensorflow.org/images/download_logo_32px.png\" />Download notebook</a>\n",
    "  </td>\n",
    "</table>"
   ]
  },
  {
   "cell_type": "markdown",
   "id": "38678e2e",
   "metadata": {},
   "source": [
    "This guide provides a quick overview of TensorFlow basics. Each section of this doc is an overview of a larger topic—you can find links to full guides at the end of each section.\n",
    "\n",
    "TensorFlow is an end-to-end platform for machine learning. It supports the following:\n",
    "\n",
    "   - Multidimensional-array based numeric computation (similar to NumPy.)\n",
    "   - GPU and distributed processing\n",
    "   - Automatic differentiation\n",
    "   - Model construction, training, and export\n",
    "   - And more\n",
    "\n"
   ]
  },
  {
   "cell_type": "markdown",
   "id": "4aff3298",
   "metadata": {},
   "source": [
    "## Tensors\n",
    "\n",
    "TensorFlow operates on multidimensional arrays or _tensors_ represented as `tf.Tensor` objects. Here is a two-dimensional tensor:"
   ]
  },
  {
   "cell_type": "code",
   "execution_count": 2,
   "id": "c6572cbb",
   "metadata": {},
   "outputs": [
    {
     "name": "stdout",
     "output_type": "stream",
     "text": [
      "tf.Tensor(\n",
      "[[1. 2. 3.]\n",
      " [4. 5. 6.]], shape=(2, 3), dtype=float32)\n",
      "(2, 3)\n",
      "<dtype: 'float32'>\n"
     ]
    }
   ],
   "source": [
    "import tensorflow as tf\n",
    "\n",
    "x = tf.constant([[1., 2., 3.],\n",
    "                 [4., 5., 6.]])\n",
    "\n",
    "print(x)\n",
    "print(x.shape)\n",
    "print(x.dtype)"
   ]
  },
  {
   "cell_type": "markdown",
   "id": "d28e2837",
   "metadata": {},
   "source": [
    "The most important attributes of a `tf.Tensor` are its `shape` and `dtype`:\n",
    "\n",
    "* `Tensor.shape`: tells you the size of the tensor along each of its axes.\n",
    "* `Tensor.dtype`: tells you the type of all the elements in the tensor."
   ]
  },
  {
   "cell_type": "markdown",
   "id": "fa230d61",
   "metadata": {},
   "source": [
    "TensorFlow implements standard mathematical operations on tensors, as well as many operations specialized for machine learning.\n",
    "\n",
    "For example:"
   ]
  },
  {
   "cell_type": "code",
   "execution_count": 11,
   "id": "dc8390e8",
   "metadata": {},
   "outputs": [
    {
     "data": {
      "text/plain": [
       "<tf.Tensor: shape=(2, 3), dtype=float32, numpy=\n",
       "array([[ 2.,  4.,  6.],\n",
       "       [ 8., 10., 12.]], dtype=float32)>"
      ]
     },
     "execution_count": 11,
     "metadata": {},
     "output_type": "execute_result"
    }
   ],
   "source": [
    "x + x"
   ]
  },
  {
   "cell_type": "code",
   "execution_count": 12,
   "id": "34eac0d0",
   "metadata": {},
   "outputs": [
    {
     "data": {
      "text/plain": [
       "<tf.Tensor: shape=(2, 3), dtype=float32, numpy=\n",
       "array([[ 5., 10., 15.],\n",
       "       [20., 25., 30.]], dtype=float32)>"
      ]
     },
     "execution_count": 12,
     "metadata": {},
     "output_type": "execute_result"
    }
   ],
   "source": [
    "5 * x"
   ]
  },
  {
   "cell_type": "code",
   "execution_count": 13,
   "id": "95ddd98f",
   "metadata": {},
   "outputs": [
    {
     "data": {
      "text/plain": [
       "<tf.Tensor: shape=(2, 2), dtype=float32, numpy=\n",
       "array([[14., 32.],\n",
       "       [32., 77.]], dtype=float32)>"
      ]
     },
     "execution_count": 13,
     "metadata": {},
     "output_type": "execute_result"
    }
   ],
   "source": [
    "x @ tf.transpose(x)"
   ]
  },
  {
   "cell_type": "code",
   "execution_count": 14,
   "id": "272ea41f",
   "metadata": {},
   "outputs": [
    {
     "data": {
      "text/plain": [
       "<tf.Tensor: shape=(6, 3), dtype=float32, numpy=\n",
       "array([[1., 2., 3.],\n",
       "       [4., 5., 6.],\n",
       "       [1., 2., 3.],\n",
       "       [4., 5., 6.],\n",
       "       [1., 2., 3.],\n",
       "       [4., 5., 6.]], dtype=float32)>"
      ]
     },
     "execution_count": 14,
     "metadata": {},
     "output_type": "execute_result"
    }
   ],
   "source": [
    "tf.concat([x, x, x], axis=0)"
   ]
  },
  {
   "cell_type": "code",
   "execution_count": 15,
   "id": "033cf599",
   "metadata": {},
   "outputs": [
    {
     "data": {
      "text/plain": [
       "<tf.Tensor: shape=(2, 3), dtype=float32, numpy=\n",
       "array([[0.09003057, 0.24472848, 0.66524094],\n",
       "       [0.09003057, 0.24472848, 0.66524094]], dtype=float32)>"
      ]
     },
     "execution_count": 15,
     "metadata": {},
     "output_type": "execute_result"
    }
   ],
   "source": [
    "tf.nn.softmax(x, axis=-1)"
   ]
  },
  {
   "cell_type": "code",
   "execution_count": 16,
   "id": "d83d909c",
   "metadata": {},
   "outputs": [
    {
     "data": {
      "text/plain": [
       "<tf.Tensor: shape=(), dtype=float32, numpy=21.0>"
      ]
     },
     "execution_count": 16,
     "metadata": {},
     "output_type": "execute_result"
    }
   ],
   "source": [
    "tf.reduce_sum(x)"
   ]
  },
  {
   "cell_type": "markdown",
   "id": "e289855a",
   "metadata": {},
   "source": [
    "Running large calculations on CPU can be slow. When properly configured, TensorFlow can use accelerator hardware like GPUs to execute operations very quickly."
   ]
  },
  {
   "cell_type": "code",
   "execution_count": 5,
   "id": "1039e5ca",
   "metadata": {},
   "outputs": [
    {
     "name": "stdout",
     "output_type": "stream",
     "text": [
      "TensorFlow **IS** using the CPU\n"
     ]
    }
   ],
   "source": [
    "if tf.config.list_physical_devices('CPU'):\n",
    "  print(\"TensorFlow **IS** using the CPU\")\n",
    "else:\n",
    "  print(\"TensorFlow **IS NOT** using the CPU\")"
   ]
  },
  {
   "cell_type": "code",
   "execution_count": 6,
   "id": "2e3644f9",
   "metadata": {},
   "outputs": [
    {
     "name": "stdout",
     "output_type": "stream",
     "text": [
      "TensorFlow **IS NOT** using the GPU\n"
     ]
    }
   ],
   "source": [
    "if tf.config.list_physical_devices('GPU'):\n",
    "  print(\"TensorFlow **IS** using the GPU\")\n",
    "else:\n",
    "  print(\"TensorFlow **IS NOT** using the GPU\")"
   ]
  },
  {
   "cell_type": "markdown",
   "id": "804658b3",
   "metadata": {},
   "source": [
    "# Variables"
   ]
  },
  {
   "cell_type": "markdown",
   "id": "600949e7",
   "metadata": {},
   "source": [
    "Normal `tf.Tensor` objects are immutable. To store model weights (or other mutable state) in TensorFlow use a `tf.Variable`."
   ]
  },
  {
   "cell_type": "code",
   "execution_count": 2,
   "id": "0effee59",
   "metadata": {},
   "outputs": [],
   "source": [
    "var = tf.Variable([0.0, 0.0, 0.0])"
   ]
  },
  {
   "cell_type": "code",
   "execution_count": 3,
   "id": "a1d02ba4",
   "metadata": {},
   "outputs": [
    {
     "data": {
      "text/plain": [
       "<tf.Variable 'UnreadVariable' shape=(3,) dtype=float32, numpy=array([1., 2., 3.], dtype=float32)>"
      ]
     },
     "execution_count": 3,
     "metadata": {},
     "output_type": "execute_result"
    }
   ],
   "source": [
    "var.assign([1, 2, 3])"
   ]
  },
  {
   "cell_type": "code",
   "execution_count": 4,
   "id": "ecb88663",
   "metadata": {},
   "outputs": [
    {
     "data": {
      "text/plain": [
       "<tf.Variable 'UnreadVariable' shape=(3,) dtype=float32, numpy=array([2., 3., 4.], dtype=float32)>"
      ]
     },
     "execution_count": 4,
     "metadata": {},
     "output_type": "execute_result"
    }
   ],
   "source": [
    "var.assign_add([1, 1, 1])"
   ]
  },
  {
   "cell_type": "markdown",
   "id": "3760607c",
   "metadata": {},
   "source": [
    "## Automatic differentiation\n",
    "\n",
    "<a href=\"https://en.wikipedia.org/wiki/Gradient_descent\" class=\"external\">_Gradient descent_</a> and related algorithms are a cornerstone of modern machine learning.\n",
    "\n",
    "To enable this, TensorFlow implements automatic differentiation (autodiff), which uses calculus to compute gradients. Typically you'll use this to calculate the gradient of a model's _error_ or _loss_ with respect to its weights."
   ]
  },
  {
   "cell_type": "code",
   "execution_count": 7,
   "id": "e3c2fc48",
   "metadata": {},
   "outputs": [],
   "source": [
    "x = tf.Variable(1.0)\n",
    "\n",
    "def f(x):\n",
    "  y = x**2 + 2*x - 5\n",
    "  return y"
   ]
  },
  {
   "cell_type": "code",
   "execution_count": 8,
   "id": "39d8299c",
   "metadata": {},
   "outputs": [
    {
     "data": {
      "text/plain": [
       "<tf.Tensor: shape=(), dtype=float32, numpy=-2.0>"
      ]
     },
     "execution_count": 8,
     "metadata": {},
     "output_type": "execute_result"
    }
   ],
   "source": [
    "f(x)"
   ]
  },
  {
   "cell_type": "markdown",
   "id": "62c17f83",
   "metadata": {},
   "source": [
    "At `x = 1.0`, `y = f(x) = (1**2 + 2*1 - 5) = -2`.\n",
    "\n",
    "The derivative of `y` is `y' = f'(x) = (2*x + 2) = 4`. TensorFlow can calculate this automatically:"
   ]
  },
  {
   "cell_type": "code",
   "execution_count": 10,
   "id": "a494e9db",
   "metadata": {},
   "outputs": [
    {
     "data": {
      "text/plain": [
       "<tf.Tensor: shape=(), dtype=float32, numpy=4.0>"
      ]
     },
     "execution_count": 10,
     "metadata": {},
     "output_type": "execute_result"
    }
   ],
   "source": [
    "with tf.GradientTape() as tape:\n",
    "  y = x**2 + 2*x - 5\n",
    "\n",
    "g_x = tape.gradient(y, x)  # g(x) = dy/dx\n",
    "\n",
    "g_x"
   ]
  },
  {
   "cell_type": "markdown",
   "id": "55bb9e0a",
   "metadata": {},
   "source": [
    "This simplified example only takes the derivative with respect to a single scalar (`x`), but TensorFlow can compute the gradient with respect to any number of non-scalar tensors simultaneously."
   ]
  },
  {
   "cell_type": "markdown",
   "id": "a5981d44",
   "metadata": {},
   "source": [
    "## Graphs and tf.function\n",
    "\n",
    "While you can use TensorFlow interactively like any Python library, TensorFlow also provides tools for:\n",
    "\n",
    "* **Performance optimization**: to speed up training and inference.\n",
    "* **Export**: so you can save your model when it's done training.\n",
    "\n",
    "These require that you use `tf.function` to separate your pure-TensorFlow code from Python."
   ]
  },
  {
   "cell_type": "code",
   "execution_count": 32,
   "id": "3d186a49",
   "metadata": {},
   "outputs": [],
   "source": [
    "@tf.function\n",
    "def my_func(x):\n",
    "  print('Tracing...\\n')\n",
    "  return tf.reduce_sum(x)"
   ]
  },
  {
   "cell_type": "markdown",
   "id": "f0ad3623",
   "metadata": {},
   "source": [
    "The first time you run the `tf.function`, although it executes in Python, it captures a complete, optimized graph representing the TensorFlow computations done within the function."
   ]
  },
  {
   "cell_type": "code",
   "execution_count": 33,
   "id": "5008a817",
   "metadata": {},
   "outputs": [
    {
     "name": "stdout",
     "output_type": "stream",
     "text": [
      "Tracing...\n",
      "\n"
     ]
    },
    {
     "data": {
      "text/plain": [
       "<tf.Tensor: shape=(), dtype=int32, numpy=6>"
      ]
     },
     "execution_count": 33,
     "metadata": {},
     "output_type": "execute_result"
    }
   ],
   "source": [
    "x = tf.constant([1, 2, 3])\n",
    "my_func(x)"
   ]
  },
  {
   "cell_type": "markdown",
   "id": "cf3bbada",
   "metadata": {},
   "source": [
    "On subsequent calls TensorFlow only executes the optimized graph, skipping any non-TensorFlow steps. Below, note that `my_func` doesn't print _tracing_ since `print` is a Python function, not a TensorFlow function."
   ]
  },
  {
   "cell_type": "code",
   "execution_count": 34,
   "id": "c5c40dd0",
   "metadata": {},
   "outputs": [
    {
     "data": {
      "text/plain": [
       "<tf.Tensor: shape=(), dtype=int32, numpy=27>"
      ]
     },
     "execution_count": 34,
     "metadata": {},
     "output_type": "execute_result"
    }
   ],
   "source": [
    "x = tf.constant([10, 9, 8])\n",
    "my_func(x)"
   ]
  },
  {
   "cell_type": "markdown",
   "id": "af4088e1",
   "metadata": {},
   "source": [
    "A graph may not be reusable for inputs with a different _signature_ (`shape` and `dtype`), so a new graph is generated instead:"
   ]
  },
  {
   "cell_type": "code",
   "execution_count": 35,
   "id": "f195c293",
   "metadata": {},
   "outputs": [
    {
     "name": "stdout",
     "output_type": "stream",
     "text": [
      "Tracing...\n",
      "\n"
     ]
    },
    {
     "data": {
      "text/plain": [
       "<tf.Tensor: shape=(), dtype=float32, numpy=27.3>"
      ]
     },
     "execution_count": 35,
     "metadata": {},
     "output_type": "execute_result"
    }
   ],
   "source": [
    "x = tf.constant([10.0, 9.1, 8.2], dtype=tf.float32)\n",
    "my_func(x)"
   ]
  },
  {
   "cell_type": "markdown",
   "id": "51c2686c",
   "metadata": {},
   "source": [
    "These captured graphs provide two benefits:\n",
    "\n",
    "* In many cases they provide a significant speedup in execution (though not this trivial example).\n",
    "* You can export these graphs, using `tf.saved_model`, to run on other systems like a [server](https://www.tensorflow.org/tfx/serving/docker) or a [mobile device](https://www.tensorflow.org/lite/guide), no Python installation required."
   ]
  },
  {
   "cell_type": "markdown",
   "id": "e84d7ebe",
   "metadata": {},
   "source": [
    "## Modules, layers, and models"
   ]
  },
  {
   "cell_type": "markdown",
   "id": "91ae4e2c",
   "metadata": {},
   "source": [
    "`tf.Module` is a class for managing your `tf.Variable` objects, and the `tf.function` objects that operate on them. The `tf.Module` class is necessary to support two significant features:\n",
    "\n",
    "1. You can save and restore the values of your variables using `tf.train.Checkpoint`. This is useful during training as it is quick to save and restore a model's state.\n",
    "2. You can import and export the `tf.Variable` values _and_ the `tf.function` graphs using `tf.saved_model`. This allows you to run your model independently of the Python program that created it.\n",
    "\n",
    "Here is a complete example exporting a simple `tf.Module` object:"
   ]
  },
  {
   "cell_type": "code",
   "execution_count": 3,
   "id": "4c4cdaee",
   "metadata": {},
   "outputs": [],
   "source": [
    "class MyModule(tf.Module):\n",
    "  def __init__(self, value):\n",
    "    self.weight = tf.Variable(value)\n",
    "\n",
    "  @tf.function\n",
    "  def multiply(self, x):\n",
    "    return x * self.weight"
   ]
  },
  {
   "cell_type": "code",
   "execution_count": 4,
   "id": "8a2960a4",
   "metadata": {},
   "outputs": [
    {
     "data": {
      "text/plain": [
       "<tf.Tensor: shape=(3,), dtype=int32, numpy=array([3, 6, 9])>"
      ]
     },
     "execution_count": 4,
     "metadata": {},
     "output_type": "execute_result"
    }
   ],
   "source": [
    "mod = MyModule(3)\n",
    "mod.multiply(tf.constant([1, 2, 3]))"
   ]
  },
  {
   "cell_type": "markdown",
   "id": "8f36bc94",
   "metadata": {},
   "source": [
    "Save the `Module`:"
   ]
  },
  {
   "cell_type": "code",
   "execution_count": 6,
   "id": "46a5f37a",
   "metadata": {},
   "outputs": [
    {
     "name": "stdout",
     "output_type": "stream",
     "text": [
      "INFO:tensorflow:Assets written to: ./saved\\assets\n"
     ]
    }
   ],
   "source": [
    "save_path = './saved'\n",
    "tf.saved_model.save(mod, save_path)"
   ]
  },
  {
   "cell_type": "markdown",
   "id": "c17be9d8",
   "metadata": {},
   "source": [
    "The resulting SavedModel is independent of the code that created it. You can load a SavedModel from Python, other language bindings, or [TensorFlow Serving](https://www.tensorflow.org/tfx/serving/docker). You can also convert it to run with [TensorFlow Lite](https://www.tensorflow.org/lite/guide) or [TensorFlow JS](https://www.tensorflow.org/js/guide)."
   ]
  },
  {
   "cell_type": "code",
   "execution_count": 7,
   "id": "01fced9d",
   "metadata": {},
   "outputs": [
    {
     "data": {
      "text/plain": [
       "<tf.Tensor: shape=(3,), dtype=int32, numpy=array([3, 6, 9])>"
      ]
     },
     "execution_count": 7,
     "metadata": {},
     "output_type": "execute_result"
    }
   ],
   "source": [
    "reloaded = tf.saved_model.load(save_path)\n",
    "reloaded.multiply(tf.constant([1, 2, 3]))"
   ]
  },
  {
   "cell_type": "markdown",
   "id": "7c37ce22",
   "metadata": {},
   "source": [
    "The `tf.keras.layers.Layer` and `tf.keras.Model` classes build on `tf.Module` providing additional functionality and convenience methods for building, training, and saving models. Some of these are demonstrated in the next section."
   ]
  },
  {
   "cell_type": "markdown",
   "id": "175c0cda",
   "metadata": {},
   "source": [
    "## Training loops\n",
    "\n",
    "Now put this all together to build a basic model and train it from scratch.\n",
    "\n",
    "First, create some example data. This generates a cloud of points that loosely follows a quadratic curve:"
   ]
  },
  {
   "cell_type": "code",
   "execution_count": 8,
   "id": "3fa8f7d7",
   "metadata": {},
   "outputs": [],
   "source": [
    "import matplotlib\n",
    "from matplotlib import pyplot as plt\n",
    "\n",
    "matplotlib.rcParams['figure.figsize'] = [9, 6]"
   ]
  },
  {
   "cell_type": "code",
   "execution_count": 10,
   "id": "ab86ba64",
   "metadata": {},
   "outputs": [
    {
     "data": {
      "image/png": "[encoded data removed]",
      "text/plain": [
       "<Figure size 648x432 with 1 Axes>"
      ]
     },
     "metadata": {
      "needs_background": "light"
     },
     "output_type": "display_data"
    }
   ],
   "source": [
    "x = tf.linspace(-2, 2, 209)\n",
    "x = tf.cast(x, tf.float32)\n",
    "\n",
    "def f(x):\n",
    "  y = x**2 + 2*x - 5\n",
    "  return y\n",
    "\n",
    "y = f(x) + tf.random.normal(shape=[209])\n",
    "\n",
    "plt.plot(x.numpy(), y.numpy(), '.', label='Data')\n",
    "plt.plot(x, f(x),  label='Ground truth')\n",
    "plt.legend();"
   ]
  },
  {
   "cell_type": "markdown",
   "id": "03b730df",
   "metadata": {},
   "source": [
    "Create a model:"
   ]
  },
  {
   "cell_type": "code",
   "execution_count": 11,
   "id": "20ed50f5",
   "metadata": {},
   "outputs": [],
   "source": [
    "class Model(tf.keras.Model):\n",
    "  def __init__(self, units):\n",
    "    super().__init__()\n",
    "    self.dense1 = tf.keras.layers.Dense(units=units,\n",
    "                                        activation=tf.nn.relu,\n",
    "                                        kernel_initializer=tf.random.normal,\n",
    "                                        bias_initializer=tf.random.normal)\n",
    "    self.dense2 = tf.keras.layers.Dense(1)\n",
    "\n",
    "  def call(self, x, training=True):\n",
    "    # For Keras layers/models, implement `call` instead of `__call__`.\n",
    "    x = x[:, tf.newaxis]\n",
    "    x = self.dense1(x)\n",
    "    x = self.dense2(x)\n",
    "    return tf.squeeze(x, axis=1)"
   ]
  },
  {
   "cell_type": "code",
   "execution_count": 12,
   "id": "3faf748a",
   "metadata": {},
   "outputs": [],
   "source": [
    "model = Model(64)"
   ]
  },
  {
   "cell_type": "code",
   "execution_count": 13,
   "id": "e4a484bb",
   "metadata": {},
   "outputs": [
    {
     "data": {
      "image/png": "[encoded data removed]",
      "text/plain": [
       "<Figure size 648x432 with 1 Axes>"
      ]
     },
     "metadata": {
      "needs_background": "light"
     },
     "output_type": "display_data"
    }
   ],
   "source": [
    "plt.plot(x.numpy(), y.numpy(), '.', label='data')\n",
    "plt.plot(x, f(x),  label='Ground truth')\n",
    "plt.plot(x, model(x), label='Untrained predictions')\n",
    "plt.title('Before training')\n",
    "plt.legend();"
   ]
  },
  {
   "cell_type": "markdown",
   "id": "f3d60863",
   "metadata": {},
   "source": [
    "Write a basic training loop:"
   ]
  },
  {
   "cell_type": "code",
   "execution_count": 27,
   "id": "6f8e8017",
   "metadata": {},
   "outputs": [
    {
     "name": "stdout",
     "output_type": "stream",
     "text": [
      "Mean squared error: nan\n",
      "Mean squared error: nan\n",
      "Mean squared error: nan\n",
      "Mean squared error: nan\n",
      "Mean squared error: nan\n",
      "Mean squared error: nan\n",
      "Mean squared error: nan\n",
      "Mean squared error: nan\n",
      "Mean squared error: nan\n",
      "Mean squared error: nan\n"
     ]
    }
   ],
   "source": [
    "variables = model.variables\n",
    "\n",
    "optimizer = tf.optimizers.SGD(learning_rate=0.001)\n",
    "\n",
    "for step in range(1000):\n",
    "  with tf.GradientTape() as tape:\n",
    "    prediction = model(x)\n",
    "    error = (y-prediction)**2\n",
    "    mean_error = tf.reduce_mean(error)\n",
    "  gradient = tape.gradient(mean_error, variables)\n",
    "  optimizer.apply_gradients(zip(gradient, variables))\n",
    "\n",
    "  if step % 100 == 0:\n",
    "    print(f'Mean squared error: {mean_error.numpy():0.3f}')"
   ]
  },
  {
   "cell_type": "code",
   "execution_count": 25,
   "id": "a716fdd1",
   "metadata": {},
   "outputs": [
    {
     "data": {
      "image/png": "[encoded data removed]",
      "text/plain": [
       "<Figure size 648x432 with 1 Axes>"
      ]
     },
     "metadata": {
      "needs_background": "light"
     },
     "output_type": "display_data"
    }
   ],
   "source": [
    "plt.plot(x.numpy(),y.numpy(), '.', label=\"data\")\n",
    "plt.plot(x, f(x),  label='Ground truth')\n",
    "plt.plot(x, model(x), label='Trained predictions')\n",
    "plt.title('After training')\n",
    "plt.legend();"
   ]
  },
  {
   "cell_type": "markdown",
   "id": "a515b56b",
   "metadata": {},
   "source": [
    "That's working, but remember that implementations of common training utilities are available in the `tf.keras` module. So consider using those before writing your own. To start with, the `Model.compile` and  `Model.fit` methods implement a training loop for you:"
   ]
  },
  {
   "cell_type": "code",
   "execution_count": 28,
   "id": "b10e3682",
   "metadata": {},
   "outputs": [],
   "source": [
    "new_model = Model(64)"
   ]
  },
  {
   "cell_type": "code",
   "execution_count": 29,
   "id": "499a08dd",
   "metadata": {},
   "outputs": [
    {
     "name": "stdout",
     "output_type": "stream",
     "text": [
      "INFO:tensorflow:Assets written to: ./my_model\\assets\n"
     ]
    }
   ],
   "source": [
    "new_model.compile(\n",
    "    loss=tf.keras.losses.MSE,\n",
    "    optimizer=tf.optimizers.SGD(learning_rate=0.01))\n",
    "\n",
    "history = new_model.fit(x, y,\n",
    "                        epochs=100,\n",
    "                        batch_size=32,\n",
    "                        verbose=0)\n",
    "\n",
    "model.save('./my_model')"
   ]
  },
  {
   "cell_type": "code",
   "execution_count": 31,
   "id": "85e02180",
   "metadata": {},
   "outputs": [
    {
     "data": {
      "image/png": "[encoded data removed]",
      "text/plain": [
       "<Figure size 648x432 with 1 Axes>"
      ]
     },
     "metadata": {
      "needs_background": "light"
     },
     "output_type": "display_data"
    }
   ],
   "source": [
    "plt.plot(history.history['loss'])\n",
    "plt.xlabel('Epoch')\n",
    "plt.ylim([0, max(plt.ylim())])\n",
    "plt.ylabel('Loss [Mean Squared Error]')\n",
    "plt.title('Keras training progress');"
   ]
  },
  {
   "cell_type": "markdown",
   "id": "dc42922e",
   "metadata": {},
   "source": [
    "Refer to [Basic training loops](basic_training_loops.ipynb) and the [Keras guide](https://www.tensorflow.org/guide/keras) for more details."
   ]
  },
  {
   "cell_type": "code",
   "execution_count": null,
   "id": "4f5bd662",
   "metadata": {},
   "outputs": [],
   "source": []
  }
 ],
 "metadata": {
  "kernelspec": {
   "display_name": "Python 3 (ipykernel)",
   "language": "python",
   "name": "python3"
  },
  "language_info": {
   "codemirror_mode": {
    "name": "ipython",
    "version": 3
   },
   "file_extension": ".py",
   "mimetype": "text/x-python",
   "name": "python",
   "nbconvert_exporter": "python",
   "pygments_lexer": "ipython3",
   "version": "3.9.7"
  }
 },
 "nbformat": 4,
 "nbformat_minor": 5
}
